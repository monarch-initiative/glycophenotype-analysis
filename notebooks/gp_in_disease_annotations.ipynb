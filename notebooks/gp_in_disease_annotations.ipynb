{
 "cells": [
  {
   "cell_type": "markdown",
   "metadata": {},
   "source": [
    "###### Analysis of glyco-phenotypes annotations in diseases\n",
    "\n",
    "Background: Given a set of diseases that should have at least one glycophenotype annotation, explore the HPO disease to phenotype annotation dataset to see if they exist.\n",
    "\n",
    "Requires:\n",
    "- rdflib\n",
    "- prefixcommons"
   ]
  },
  {
   "cell_type": "code",
   "execution_count": 28,
   "metadata": {},
   "outputs": [
    {
     "name": "stdout",
     "output_type": "stream",
     "text": [
      "Diseases to process: 185\n"
     ]
    }
   ],
   "source": [
    "from rdflib import URIRef, BNode, Literal, Graph, RDFS\n",
    "from prefixcommons import contract_uri, expand_uri\n",
    "from typing import Set, Optional\n",
    "import csv\n",
    "import gzip\n",
    "\n",
    "\n",
    "# Open file with disease list\n",
    "diseases = []\n",
    "with open(\"./input/glyco-mondo.txt\", 'r') as glyco_file:\n",
    "    for line in glyco_file:\n",
    "        diseases.append(line.rstrip(\"\\n\"))\n",
    "\n",
    "d2p = {}\n",
    "with open('../data/mondo_hp_w_groups.tsv', 'r') as cache_file:\n",
    "    reader = csv.reader(cache_file, delimiter='\\t', quotechar='\\\"')\n",
    "    for row in reader:\n",
    "        if row[0].startswith('#'): continue\n",
    "        (mondo_id, phenotype_id) = row[0:2]\n",
    "        if mondo_id in diseases:\n",
    "            if mondo_id in d2p:\n",
    "                d2p[mondo_id].add(phenotype_id)\n",
    "            else:\n",
    "                d2p[mondo_id] = {phenotype_id}\n",
    "\n",
    "# Function for getting reflexive subclass_of closure\n",
    "# from rdflib Graph\n",
    "def get_subclass_closure(\n",
    "        graph: Graph,\n",
    "        node: str,\n",
    "        root: Optional[str] = None) -> Set[str]:\n",
    "    nodes = set()\n",
    "    root_seen = {}\n",
    "    node = URIRef(expand_uri(node, strict=True))\n",
    "\n",
    "    if root is not None:\n",
    "        root = URIRef(expand_uri(root, strict=True))\n",
    "        root_seen = {root: 1}\n",
    "    for obj in graph.transitive_objects(node, RDFS['subClassOf'], root_seen):\n",
    "        if isinstance(obj, Literal) or isinstance(obj, BNode):\n",
    "            continue\n",
    "        nodes.add(contract_uri(str(obj), strict=True)[0])\n",
    "\n",
    "    # Add root to graph\n",
    "    if root is not None:\n",
    "        nodes.add(contract_uri(str(root), strict=True)[0])\n",
    "\n",
    "    return nodes\n",
    "\n",
    "print(\"Diseases to process: {}\".format(len(diseases)))"
   ]
  },
  {
   "cell_type": "code",
   "execution_count": 29,
   "metadata": {},
   "outputs": [],
   "source": [
    "# Set of glyco-phenotype grouping classes\n",
    "# TODO unsure if this is definitive list\n",
    "glyco_phenogroups = {\n",
    "    'HP:0011014', # Abnormal glucose homeostasis\n",
    "    'HP:0012345', # Abnormal glycosylation\n",
    "    'HP:0004366', # Abnormality of glycolysis\n",
    "    'HP:0003649', # Abnormality of glycoside metabolism\n",
    "    'HP:0011012', # Abnormality of polysaccharide metabolism\n",
    "    'HP:0012067', # Glycopeptiduria\n",
    "    'HP:0010471'  # Oligosacchariduria\n",
    "}\n",
    "\n",
    "# Load hpo owl file into memory, this takes ~ 1-2 minutes\n",
    "hpo = Graph()\n",
    "hpo.parse(gzip.open(\"../data/hp.owl.gz\", 'rb'), format='xml')\n",
    "root = \"HP:0000118\""
   ]
  },
  {
   "cell_type": "code",
   "execution_count": 32,
   "metadata": {},
   "outputs": [
    {
     "name": "stdout",
     "output_type": "stream",
     "text": [
      "debug: MONDO:0000182 not in annotation file\n",
      "debug: MONDO:0000189 not in annotation file\n",
      "debug: MONDO:0011142 not in annotation file\n",
      "debug: MONDO:0013303 not in annotation file\n",
      "debug: MONDO:0017734 not in annotation file\n",
      "debug: MONDO:0018163 not in annotation file\n",
      "debug: MONDO:0018273 not in annotation file\n",
      "debug: MONDO:0018274 not in annotation file\n",
      "debug: MONDO:0018485 not in annotation file\n",
      "debug: MONDO:0029135 not in annotation file\n",
      "debug: MONDO:0060640 not in annotation file\n"
     ]
    }
   ],
   "source": [
    "# Output file\n",
    "output = open('./output/glyco-mondo-annotations.tsv', 'w')\n",
    "\n",
    "headers = [\n",
    "    'mondo_id',           # MONDO curie\n",
    "    'num_glycophen',      # Count of glycophenotypes annotated to disease\n",
    "    'num_nonglyco',       # Count of non-glycophentypes annotated to disease\n",
    "    'glycophenotypes',    # Pipe delim list of glycophenotype terms\n",
    "    'non_glycophenotypes' # Pipe delim list of non-glycophenotype terms\n",
    "]\n",
    "\n",
    "output.write(\"{}\\n\".format(\"\\t\".join(headers)))\n",
    "\n",
    "\n",
    "# Iterate over diseases and write to file\n",
    "for disease in diseases:\n",
    "    glyco_count = 0\n",
    "    nonglyco_count = 0\n",
    "    glycophenotypes = []\n",
    "    non_glycophenotypes = []\n",
    "    if disease not in d2p:\n",
    "        print(\"debug: {} not in annotation file\".format(disease))\n",
    "        continue\n",
    "    for phenotype in d2p[disease]:\n",
    "        phenotype_closure = get_subclass_closure(hpo, phenotype, root)\n",
    "        if len(phenotype_closure.intersection(glyco_phenogroups)) > 0:\n",
    "            glyco_count += 1\n",
    "            glycophenotypes.append(phenotype)\n",
    "        else:\n",
    "            nonglyco_count += 1\n",
    "            non_glycophenotypes.append(phenotype)\n",
    "            \n",
    "    # Write line to file\n",
    "    output.write(\"{}\\t{}\\t{}\\t{}\\t{}\\n\".format(\n",
    "        disease,\n",
    "        glyco_count,\n",
    "        nonglyco_count,\n",
    "        \"|\".join(glycophenotypes),\n",
    "        \"|\".join(non_glycophenotypes),\n",
    "    ))"
   ]
  }
 ],
 "metadata": {
  "kernelspec": {
   "display_name": "Python 3",
   "language": "python",
   "name": "python3"
  },
  "language_info": {
   "codemirror_mode": {
    "name": "ipython",
    "version": 3
   },
   "file_extension": ".py",
   "mimetype": "text/x-python",
   "name": "python",
   "nbconvert_exporter": "python",
   "pygments_lexer": "ipython3",
   "version": "3.6.7"
  }
 },
 "nbformat": 4,
 "nbformat_minor": 2
}
