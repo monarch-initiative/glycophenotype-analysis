{
 "cells": [
  {
   "cell_type": "markdown",
   "metadata": {},
   "source": [
    "#### Leveraging glycophenotypes for diagnosis of human diseases: example of Fucosidosis\n",
    "\n",
    "\n",
    "We hypothesize that expanding the representation of glycophenotypes in the HPO and their use in disease annotations could improve phenotype-based comparisons in the Monarch Initiative. Here we perform an analysis with phenotypes associated with the disease fucosidosis (MONDO:0009254). First, we generate 100 \"simulated\" disease phenotype profiles by randomly sampling 10 of the 74 phenotypes associated with fucosidosis.  In a second set, for each profile, we randomly replaced two phenotypes with two glycophenotypes known to be associated with fucosidosis. Both sets are compared using the OwlSim algorithm from the Monarch Initiative, which given a list of phenotypes, ranks candidate diseases based on phenotypic similarity.\n",
    "\n",
    "This notebook walks through this analysis, first where the 10 sampled non glycophenotypes and 2 glycophenotypes are provided, and a second run where the entire analysis is randomized.\n",
    "\n",
    "##### Ontologies, data, and tools\n",
    "\n",
    "###### Ontologies\n",
    "This analysis uses the following versions of ontologies:\n",
    "\n",
    "Human Phenotype Ontology (HPO): http://purl.obolibrary.org/obo/hp/releases/2018-12-21/hp.owl\n",
    "\n",
    "Monarch Disease Ontology (MONDO): http://purl.obolibrary.org/obo/mondo/releases/2018-12-02/mondo.owl\n",
    "\n",
    "###### Disease to phenotype annotations\n",
    "\n",
    "The [HPO disease to phenotype annotation file](http://compbio.charite.de/jenkins/job/hpo.annotations/lastStableBuild/artifact/misc/phenotype_annotation.tab) is not versioned; therefore, a snapshot of is provided alongside this notebook,\n",
    "\n",
    "_HPO annotations_: ./input/phenotype_annotation.tab\n",
    "\n",
    "Disease identifiers were merged using MONDO, and annotations updated with merged IDs,\n",
    "\n",
    "_Disease to phenotype annotations_: ./input/mondo_hp.tsv\n",
    "\n",
    "###### OwlSim\n",
    "The official Monarch Initiative OwlSim endpoint is available via:\n",
    "https://monarchinitiative.org/owlsim/\n",
    "\n",
    "Alternatively, we provide a docker file to run owlsim locally with the above ontology and annotation files. To run:\n",
    "\n",
    "    cd owlsim-docker\n",
    "    docker build ./ -t owlsim-slim\n",
    "    docker run -d -p 9031:9031 --name owlsim owlsim-slim\n",
    "    \n",
    "    # Test that owlsim is running (may take 60 seconds to start)\n",
    "    # http://localhost:9031/compareAttributeSets?a=HP:0010539&b=HP:0006989&b=HP:0000219&b=HP:0000248\n",
    "    \n",
    "    # To stop the container\n",
    "    docker stop owlsim\n",
    "\n",
    "\n",
    "##### Running this notebook\n",
    "This is a python3 notebook and assumes the environment running jupyter contains the following python libs:\n",
    "- requests\n",
    "- rdflib\n",
    "\n"
   ]
  },
  {
   "cell_type": "code",
   "execution_count": null,
   "metadata": {},
   "outputs": [],
   "source": []
  }
 ],
 "metadata": {
  "kernelspec": {
   "display_name": "Python 3",
   "language": "python",
   "name": "python3"
  },
  "language_info": {
   "codemirror_mode": {
    "name": "ipython",
    "version": 3
   },
   "file_extension": ".py",
   "mimetype": "text/x-python",
   "name": "python",
   "nbconvert_exporter": "python",
   "pygments_lexer": "ipython3",
   "version": "3.6.7"
  }
 },
 "nbformat": 4,
 "nbformat_minor": 2
}
